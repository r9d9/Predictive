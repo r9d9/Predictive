{
 "cells": [
  {
   "cell_type": "code",
   "execution_count": 1,
   "metadata": {},
   "outputs": [],
   "source": [
    "from sklearn.metrics import mean_squared_error,log_loss,r2_score"
   ]
  },
  {
   "cell_type": "code",
   "execution_count": 56,
   "metadata": {},
   "outputs": [],
   "source": [
    "test_y = [1,1,1,1,1,1,1,0,0,0]\n",
    "#probas = [1,1,1,1,1,1,1,0,0,0]\n",
    "#probas = [0,0,0,0,0,1,1,1,1,1]\n",
    "probas = [1,1,1,1,1,1,1,0.9,0.9,0.9] #3 false positives\n",
    "#probas = [0.1,0.1,0.1,1,1,1,1,0,0,0] #3 false negatives\n",
    "#probas = [0.1,0.1,0.1,0.1,0.1,0.1,0.1,0.1,0.1,0.1]\n",
    "#probas = [0.9,0.9,0.9,0.9,0.9,0.9,0.9,0.9,0.9,0.9]\n",
    "#probas = [0.8,0.9,0.9,0.9,0.8,0.9,0.8,0.88,0.9,0.9]"
   ]
  },
  {
   "cell_type": "code",
   "execution_count": 57,
   "metadata": {},
   "outputs": [
    {
     "data": {
      "text/plain": [
       "0.20794415416798429"
      ]
     },
     "execution_count": 57,
     "metadata": {},
     "output_type": "execute_result"
    }
   ],
   "source": [
    "logloss = log_loss(test_y,probas)\n",
    "logloss"
   ]
  },
  {
   "cell_type": "code",
   "execution_count": null,
   "metadata": {},
   "outputs": [],
   "source": []
  }
 ],
 "metadata": {
  "kernelspec": {
   "display_name": "Python 3",
   "language": "python",
   "name": "python3"
  },
  "language_info": {
   "codemirror_mode": {
    "name": "ipython",
    "version": 3
   },
   "file_extension": ".py",
   "mimetype": "text/x-python",
   "name": "python",
   "nbconvert_exporter": "python",
   "pygments_lexer": "ipython3",
   "version": "3.6.5"
  }
 },
 "nbformat": 4,
 "nbformat_minor": 2
}
