{
 "cells": [
  {
   "cell_type": "code",
   "execution_count": 1,
   "metadata": {},
   "outputs": [],
   "source": [
    "import pandas as pd\n",
    "import numpy as np\n",
    "import matplotlib.pyplot as plt\n",
    "from sklearn.datasets import load_iris"
   ]
  },
  {
   "cell_type": "code",
   "execution_count": 2,
   "metadata": {},
   "outputs": [
    {
     "data": {
      "text/plain": [
       "array([ True,  True,  True,  True,  True,  True,  True,  True,  True,\n",
       "        True,  True,  True,  True,  True,  True,  True,  True,  True,\n",
       "        True,  True,  True,  True,  True,  True,  True,  True,  True,\n",
       "        True,  True,  True,  True,  True,  True,  True,  True,  True,\n",
       "        True,  True,  True,  True,  True,  True,  True,  True,  True,\n",
       "        True,  True,  True,  True,  True, False, False, False, False,\n",
       "       False, False, False, False, False, False, False, False, False,\n",
       "       False, False, False, False, False, False, False, False, False,\n",
       "       False, False, False, False, False, False, False, False, False,\n",
       "       False, False, False, False, False, False, False, False, False,\n",
       "       False, False, False, False, False, False, False, False, False,\n",
       "       False,  True,  True,  True,  True,  True,  True,  True,  True,\n",
       "        True,  True,  True,  True,  True,  True,  True,  True,  True,\n",
       "        True,  True,  True,  True,  True,  True,  True,  True,  True,\n",
       "        True,  True,  True,  True,  True,  True,  True,  True,  True,\n",
       "        True,  True,  True,  True,  True,  True,  True,  True,  True,\n",
       "        True,  True,  True,  True,  True,  True])"
      ]
     },
     "execution_count": 2,
     "metadata": {},
     "output_type": "execute_result"
    }
   ],
   "source": [
    "# Our dataset\n",
    "iris = load_iris()\n",
    "X = iris.data[:, :2]\n",
    "t = iris.target\n",
    "y = (iris.target != 1) # *1\n",
    "y"
   ]
  },
  {
   "cell_type": "code",
   "execution_count": null,
   "metadata": {},
   "outputs": [],
   "source": [
    "#intercept = np.ones((X.shape[0], 1))\n",
    "intercept = np.ones((X.shape[0], 1)) # Bilde einen Vektor von 1'en mit einer LÄnge von den Daten X\n",
    "pd.DataFrame(np.concatenate((intercept, X), axis=1))\n",
    "theta = np.zeros(X.shape[1])\n",
    "np.dot(X,theta).shape"
   ]
  },
  {
   "cell_type": "code",
   "execution_count": 10,
   "metadata": {},
   "outputs": [],
   "source": [
    "class LogisticRegression1:\n",
    "    def __init__(self, lr=0.01, num_iter=100000, fit_intercept=True, pr_iter =False):\n",
    "        self.lr = lr\n",
    "        self.num_iter = num_iter\n",
    "        self.fit_intercept = fit_intercept\n",
    "        self.pr_iter = pr_iter\n",
    "    \n",
    "    # Erstselle hier eine Matrix Theta mit unseren Datenpunkten\n",
    "    def __add_intercept(self, X):\n",
    "        intercept = np.ones((X.shape[0], 1))  # Bilde einen Vektor von 1'en mit einer Länge von den Daten X, da w_0 = 1\n",
    "        return np.concatenate((intercept, X), axis=1) # Bilde eine (Länge der Daten X Mal Anzahl der Spalten + 1, da w_o = 1 ist)\n",
    "    \n",
    "    # Unsere Sigmoidfunktion: g(z) = 1/(1 + exp(-z))\n",
    "    def __sigmoid(self, z):\n",
    "        return 1 / (1 + np.exp(-z))\n",
    "    \n",
    "    # Unsere Fehlerfunktion ist die Log-Loss Funktion (Binärer Fall): \n",
    "    # Mit h(X*Theta) -> J(Theta) = (1/m) * (-y * log(h) - (1 - y) * log(1-h) )\n",
    "    \n",
    "    def __loss(self, h, y):\n",
    "        return (-y * np.log(h) - (1 - y) * np.log(1 - h)).mean()\n",
    "    \n",
    "    # Fitting des Modells\n",
    "    def fit(self, X, y):\n",
    "        if self.fit_intercept:\n",
    "            X = self.__add_intercept(X)\n",
    "        \n",
    "        # weights initialization (Theta sind unsere Gewichte.....)\n",
    "        self.theta = np.zeros(X.shape[1]) # Erstellung einer 0-Matrix der Spaltenlänge von X\n",
    "        \n",
    "        for step in range(self.num_iter):\n",
    "            z = np.dot(X, self.theta)\n",
    "            h = self.__sigmoid(z) # Unsere Sigmoidfunktion\n",
    "            # Unser Gradient ist unser log los\n",
    "            gradient = np.dot(X.T, (h - y)) / y.shape[0] # Unser Gradientenabstieg =  X^T (Y - Predictions), wobei Y = sigmoid(z) mit z = Theta^T * X \n",
    "            self.theta -= self.lr * gradient # Theta sind unsere Gewichte\n",
    "            \n",
    "            if (self.pr_iter == True) and (step % 10000 == 0): # Bei jeder 10.000 Iteration ausprinten\n",
    "                z = np.dot(X, self.theta)\n",
    "                h = self.__sigmoid(z)\n",
    "                print(f'loss: {self.__loss(h, y)} \\t')\n",
    "                \n",
    "        return self.theta\n",
    "    \n",
    "    # Unsere Wahrscheinlichkeiten für X.\n",
    "    def predict_proba(self, X):\n",
    "        if self.fit_intercept:\n",
    "            X = self.__add_intercept(X)\n",
    "    \n",
    "        return self.__sigmoid(np.dot(X, self.theta)) # Mit g(z) = 1/(1 + exp(-z)), wobei z = Theta^T* X\n",
    "    \n",
    "    def predict(self, X, threshold):\n",
    "        return self.predict_proba(X) >= threshold # Threshold wird erstmal auf 0,5 gesetzt"
   ]
  },
  {
   "cell_type": "code",
   "execution_count": 29,
   "metadata": {},
   "outputs": [
    {
     "name": "stdout",
     "output_type": "stream",
     "text": [
      "Wall time: 6.09 s\n",
      "0.72\n"
     ]
    }
   ],
   "source": [
    "# Picking a learning rate = 0.1 and number of iterations = 300000 the algorithm classified all instances successfully. \n",
    "model = LogisticRegression1(lr=0.1, num_iter=300000, pr_iter = False)\n",
    "\n",
    "%time mo = model.fit(X, y)\n",
    "\n",
    "pred_own = model.predict(X, 0.4)\n",
    "#print(y)\n",
    "# accuracy\n",
    "print((pred_own == y).mean())\n",
    "#mo\n",
    "#preds"
   ]
  },
  {
   "cell_type": "code",
   "execution_count": 30,
   "metadata": {},
   "outputs": [
    {
     "data": {
      "text/plain": [
       "array([-8.025147  , -0.14035595,  3.21420697])"
      ]
     },
     "execution_count": 30,
     "metadata": {},
     "output_type": "execute_result"
    }
   ],
   "source": [
    "model.theta"
   ]
  },
  {
   "cell_type": "code",
   "execution_count": 69,
   "metadata": {},
   "outputs": [
    {
     "data": {
      "text/plain": [
       "12"
      ]
     },
     "execution_count": 69,
     "metadata": {},
     "output_type": "execute_result"
    }
   ],
   "source": [
    "# ROC Curve \n",
    "# Total\n",
    "sum_every = (pred_own == y)\n",
    "sum_not = (pred_own != y)\n",
    "total_good = np.sum(sum_every)\n",
    "total_bad = np.sum(sum_not)\n",
    "\n",
    "TPR_list = []\n",
    "FPR_list = []\n",
    "cum_TP = 0\n",
    "cum_FP = 0\n",
    "\n",
    "for i in range(len(X)):\n",
    "    if sum_not[i] > 0:\n",
    "        cum_TP += sum_not[len(X) - 1 -i]\n",
    "        cum_FP += sum_every[len(X) - 1 -i]\n",
    "    \n",
    "        \n",
    "        \n",
    "#cum_TP\n",
    "#cum_FP\n",
    "#total_bad"
   ]
  },
  {
   "cell_type": "code",
   "execution_count": null,
   "metadata": {},
   "outputs": [],
   "source": []
  },
  {
   "cell_type": "code",
   "execution_count": 42,
   "metadata": {},
   "outputs": [
    {
     "data": {
      "text/plain": [
       "Text(0,0.5,'Richtig-positiv-Rate')"
      ]
     },
     "execution_count": 42,
     "metadata": {},
     "output_type": "execute_result"
    },
    {
     "data": {
      "image/png": "[encoded data removed]",
      "text/plain": [
       "<Figure size 432x288 with 1 Axes>"
      ]
     },
     "metadata": {},
     "output_type": "display_data"
    }
   ],
   "source": [
    "# Unser Vergleich\n",
    "from sklearn.metrics import roc_curve\n",
    "y_score = model.predict_proba(X)\n",
    "\n",
    "fpr, tpr, threshold = roc_curve(y, y_score)\n",
    "\n",
    "plt.plot(fpr, tpr)\n",
    "plt.plot([0, 1], [0, 1], 'k--')\n",
    "plt.axis([0, 1, 0, 1])\n",
    "plt.xlabel('Falsch-positiv-Rate')\n",
    "plt.ylabel('Richtig-positiv-Rate')\n"
   ]
  },
  {
   "cell_type": "code",
   "execution_count": 35,
   "metadata": {},
   "outputs": [
    {
     "name": "stdout",
     "output_type": "stream",
     "text": [
      "Wall time: 958 µs\n",
      "0.7133333333333334\n"
     ]
    },
    {
     "data": {
      "text/plain": [
       "(array([-8.02448467]), array([[-0.14038305,  3.21403399]]))"
      ]
     },
     "execution_count": 35,
     "metadata": {},
     "output_type": "execute_result"
    }
   ],
   "source": [
    "# Unser Vergleich\n",
    "from sklearn.linear_model import LogisticRegression\n",
    "\n",
    "lr = LogisticRegression(C=1e15)\n",
    "\n",
    "%time lr.fit(X, y)\n",
    "\n",
    "preds = lr.predict(X)\n",
    "\n",
    "# accuracy\n",
    "print((preds == y).mean())\n",
    "\n",
    "lr.intercept_, lr.coef_"
   ]
  },
  {
   "cell_type": "code",
   "execution_count": null,
   "metadata": {},
   "outputs": [],
   "source": []
  },
  {
   "cell_type": "code",
   "execution_count": null,
   "metadata": {},
   "outputs": [],
   "source": []
  }
 ],
 "metadata": {
  "kernelspec": {
   "display_name": "Python 3",
   "language": "python",
   "name": "python3"
  },
  "language_info": {
   "codemirror_mode": {
    "name": "ipython",
    "version": 3
   },
   "file_extension": ".py",
   "mimetype": "text/x-python",
   "name": "python",
   "nbconvert_exporter": "python",
   "pygments_lexer": "ipython3",
   "version": "3.6.5"
  }
 },
 "nbformat": 4,
 "nbformat_minor": 2
}
