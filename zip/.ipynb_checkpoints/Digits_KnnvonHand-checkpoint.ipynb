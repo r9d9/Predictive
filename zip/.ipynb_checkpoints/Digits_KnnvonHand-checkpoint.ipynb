{
 "cells": [
  {
   "cell_type": "markdown",
   "metadata": {},
   "source": [
    "# KNN von Hand"
   ]
  },
  {
   "cell_type": "code",
   "execution_count": null,
   "metadata": {},
   "outputs": [],
   "source": [
    "neigh = KNeighborsClassifier(n_neighbors=3)\n",
    "neigh.fit(input_data, cleaned_data[0].values) "
   ]
  },
  {
   "cell_type": "code",
   "execution_count": null,
   "metadata": {},
   "outputs": [],
   "source": [
    "cleaned_data[0].values.shape"
   ]
  },
  {
   "cell_type": "code",
   "execution_count": null,
   "metadata": {},
   "outputs": [],
   "source": [
    "res = neigh.predict(input_test_data)\n",
    "res"
   ]
  },
  {
   "cell_type": "code",
   "execution_count": null,
   "metadata": {},
   "outputs": [],
   "source": [
    "cleaned_test_data[0] == res"
   ]
  },
  {
   "cell_type": "code",
   "execution_count": null,
   "metadata": {},
   "outputs": [],
   "source": [
    "err_rates_all = []\n",
    "analyses_names_all=[]\n",
    "analyses_results_all = []\n",
    "for k in np.arange(1,5,2):\n",
    "    dataname = 'KNN_'+str(k)\n",
    "    analyses_names_all.append(dataname)\n",
    "    neigh = KNeighborsClassifier(n_neighbors=k)\n",
    "    neigh.fit(input_data, cleaned_data[0].values)\n",
    "    prediction = neigh.predict(input_test_data)\n",
    "    analyses_results_all.append(prediction)\n",
    "    err_rates_all.append(1.0*(cleaned_test_data[0] == prediction).sum()/cleaned_test_data[0].count())\n"
   ]
  },
  {
   "cell_type": "code",
   "execution_count": null,
   "metadata": {},
   "outputs": [],
   "source": [
    "rates_df_all = pd.concat([pd.Series(err_rates_all)],axis = 1)\n",
    "rates_df_all.index = analyses_names_all\n",
    "display(rates_df_all)\n",
    "rates_df_all.transpose()\n",
    "rates_df_all.plot(kind='bar',figsize=(20,8),rot=90,ylim=(0.85,1),title = \"Accuracy rates comparison\",legend=False,fontsize=20)\n"
   ]
  }
 ],
 "metadata": {
  "kernelspec": {
   "display_name": "Python 3",
   "language": "python",
   "name": "python3"
  },
  "language_info": {
   "codemirror_mode": {
    "name": "ipython",
    "version": 3
   },
   "file_extension": ".py",
   "mimetype": "text/x-python",
   "name": "python",
   "nbconvert_exporter": "python",
   "pygments_lexer": "ipython3",
   "version": "3.6.5"
  }
 },
 "nbformat": 4,
 "nbformat_minor": 2
}
