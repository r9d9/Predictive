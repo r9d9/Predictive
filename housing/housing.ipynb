{
 "cells": [
  {
   "cell_type": "code",
   "execution_count": 1,
   "metadata": {},
   "outputs": [],
   "source": [
    "import pandas as pd\n",
    "import numpy as np\n",
    "from matplotlib import pyplot as plt\n",
    "from sklearn import preprocessing\n",
    "from IPython.display import display, HTML\n",
    "from pandas.plotting import scatter_matrix\n",
    "from sklearn.neighbors import KNeighborsRegressor\n",
    "from sklearn import linear_model\n",
    "from sklearn.metrics import mean_squared_error\n",
    "from sklearn.model_selection import train_test_split\n",
    "from sklearn.cluster import KMeans\n",
    "import pickle\n",
    "import seaborn as sns"
   ]
  },
  {
   "cell_type": "code",
   "execution_count": 2,
   "metadata": {},
   "outputs": [
    {
     "ename": "FileNotFoundError",
     "evalue": "File b'data/housing.csv' does not exist",
     "traceback": [
      "\u001b[1;31m---------------------------------------------------------------------------\u001b[0m",
      "\u001b[1;31mFileNotFoundError\u001b[0m                         Traceback (most recent call last)",
      "\u001b[1;32m<ipython-input-2-1b77712e53ab>\u001b[0m in \u001b[0;36m<module>\u001b[1;34m()\u001b[0m\n\u001b[1;32m----> 1\u001b[1;33m \u001b[0mdata\u001b[0m \u001b[1;33m=\u001b[0m \u001b[0mpd\u001b[0m\u001b[1;33m.\u001b[0m\u001b[0mread_csv\u001b[0m\u001b[1;33m(\u001b[0m\u001b[1;34m\"data/housing.csv\"\u001b[0m\u001b[1;33m,\u001b[0m \u001b[0msep\u001b[0m\u001b[1;33m=\u001b[0m\u001b[1;34m\";\"\u001b[0m\u001b[1;33m)\u001b[0m\u001b[1;33m\u001b[0m\u001b[0m\n\u001b[0m",
      "\u001b[1;32m~\\Anaconda3\\lib\\site-packages\\pandas\\io\\parsers.py\u001b[0m in \u001b[0;36mparser_f\u001b[1;34m(filepath_or_buffer, sep, delimiter, header, names, index_col, usecols, squeeze, prefix, mangle_dupe_cols, dtype, engine, converters, true_values, false_values, skipinitialspace, skiprows, nrows, na_values, keep_default_na, na_filter, verbose, skip_blank_lines, parse_dates, infer_datetime_format, keep_date_col, date_parser, dayfirst, iterator, chunksize, compression, thousands, decimal, lineterminator, quotechar, quoting, escapechar, comment, encoding, dialect, tupleize_cols, error_bad_lines, warn_bad_lines, skipfooter, doublequote, delim_whitespace, low_memory, memory_map, float_precision)\u001b[0m\n\u001b[0;32m    676\u001b[0m                     skip_blank_lines=skip_blank_lines)\n\u001b[0;32m    677\u001b[0m \u001b[1;33m\u001b[0m\u001b[0m\n\u001b[1;32m--> 678\u001b[1;33m         \u001b[1;32mreturn\u001b[0m \u001b[0m_read\u001b[0m\u001b[1;33m(\u001b[0m\u001b[0mfilepath_or_buffer\u001b[0m\u001b[1;33m,\u001b[0m \u001b[0mkwds\u001b[0m\u001b[1;33m)\u001b[0m\u001b[1;33m\u001b[0m\u001b[0m\n\u001b[0m\u001b[0;32m    679\u001b[0m \u001b[1;33m\u001b[0m\u001b[0m\n\u001b[0;32m    680\u001b[0m     \u001b[0mparser_f\u001b[0m\u001b[1;33m.\u001b[0m\u001b[0m__name__\u001b[0m \u001b[1;33m=\u001b[0m \u001b[0mname\u001b[0m\u001b[1;33m\u001b[0m\u001b[0m\n",
      "\u001b[1;32m~\\Anaconda3\\lib\\site-packages\\pandas\\io\\parsers.py\u001b[0m in \u001b[0;36m_read\u001b[1;34m(filepath_or_buffer, kwds)\u001b[0m\n\u001b[0;32m    438\u001b[0m \u001b[1;33m\u001b[0m\u001b[0m\n\u001b[0;32m    439\u001b[0m     \u001b[1;31m# Create the parser.\u001b[0m\u001b[1;33m\u001b[0m\u001b[1;33m\u001b[0m\u001b[0m\n\u001b[1;32m--> 440\u001b[1;33m     \u001b[0mparser\u001b[0m \u001b[1;33m=\u001b[0m \u001b[0mTextFileReader\u001b[0m\u001b[1;33m(\u001b[0m\u001b[0mfilepath_or_buffer\u001b[0m\u001b[1;33m,\u001b[0m \u001b[1;33m**\u001b[0m\u001b[0mkwds\u001b[0m\u001b[1;33m)\u001b[0m\u001b[1;33m\u001b[0m\u001b[0m\n\u001b[0m\u001b[0;32m    441\u001b[0m \u001b[1;33m\u001b[0m\u001b[0m\n\u001b[0;32m    442\u001b[0m     \u001b[1;32mif\u001b[0m \u001b[0mchunksize\u001b[0m \u001b[1;32mor\u001b[0m \u001b[0miterator\u001b[0m\u001b[1;33m:\u001b[0m\u001b[1;33m\u001b[0m\u001b[0m\n",
      "\u001b[1;32m~\\Anaconda3\\lib\\site-packages\\pandas\\io\\parsers.py\u001b[0m in \u001b[0;36m__init__\u001b[1;34m(self, f, engine, **kwds)\u001b[0m\n\u001b[0;32m    785\u001b[0m             \u001b[0mself\u001b[0m\u001b[1;33m.\u001b[0m\u001b[0moptions\u001b[0m\u001b[1;33m[\u001b[0m\u001b[1;34m'has_index_names'\u001b[0m\u001b[1;33m]\u001b[0m \u001b[1;33m=\u001b[0m \u001b[0mkwds\u001b[0m\u001b[1;33m[\u001b[0m\u001b[1;34m'has_index_names'\u001b[0m\u001b[1;33m]\u001b[0m\u001b[1;33m\u001b[0m\u001b[0m\n\u001b[0;32m    786\u001b[0m \u001b[1;33m\u001b[0m\u001b[0m\n\u001b[1;32m--> 787\u001b[1;33m         \u001b[0mself\u001b[0m\u001b[1;33m.\u001b[0m\u001b[0m_make_engine\u001b[0m\u001b[1;33m(\u001b[0m\u001b[0mself\u001b[0m\u001b[1;33m.\u001b[0m\u001b[0mengine\u001b[0m\u001b[1;33m)\u001b[0m\u001b[1;33m\u001b[0m\u001b[0m\n\u001b[0m\u001b[0;32m    788\u001b[0m \u001b[1;33m\u001b[0m\u001b[0m\n\u001b[0;32m    789\u001b[0m     \u001b[1;32mdef\u001b[0m \u001b[0mclose\u001b[0m\u001b[1;33m(\u001b[0m\u001b[0mself\u001b[0m\u001b[1;33m)\u001b[0m\u001b[1;33m:\u001b[0m\u001b[1;33m\u001b[0m\u001b[0m\n",
      "\u001b[1;32m~\\Anaconda3\\lib\\site-packages\\pandas\\io\\parsers.py\u001b[0m in \u001b[0;36m_make_engine\u001b[1;34m(self, engine)\u001b[0m\n\u001b[0;32m   1012\u001b[0m     \u001b[1;32mdef\u001b[0m \u001b[0m_make_engine\u001b[0m\u001b[1;33m(\u001b[0m\u001b[0mself\u001b[0m\u001b[1;33m,\u001b[0m \u001b[0mengine\u001b[0m\u001b[1;33m=\u001b[0m\u001b[1;34m'c'\u001b[0m\u001b[1;33m)\u001b[0m\u001b[1;33m:\u001b[0m\u001b[1;33m\u001b[0m\u001b[0m\n\u001b[0;32m   1013\u001b[0m         \u001b[1;32mif\u001b[0m \u001b[0mengine\u001b[0m \u001b[1;33m==\u001b[0m \u001b[1;34m'c'\u001b[0m\u001b[1;33m:\u001b[0m\u001b[1;33m\u001b[0m\u001b[0m\n\u001b[1;32m-> 1014\u001b[1;33m             \u001b[0mself\u001b[0m\u001b[1;33m.\u001b[0m\u001b[0m_engine\u001b[0m \u001b[1;33m=\u001b[0m \u001b[0mCParserWrapper\u001b[0m\u001b[1;33m(\u001b[0m\u001b[0mself\u001b[0m\u001b[1;33m.\u001b[0m\u001b[0mf\u001b[0m\u001b[1;33m,\u001b[0m \u001b[1;33m**\u001b[0m\u001b[0mself\u001b[0m\u001b[1;33m.\u001b[0m\u001b[0moptions\u001b[0m\u001b[1;33m)\u001b[0m\u001b[1;33m\u001b[0m\u001b[0m\n\u001b[0m\u001b[0;32m   1015\u001b[0m         \u001b[1;32melse\u001b[0m\u001b[1;33m:\u001b[0m\u001b[1;33m\u001b[0m\u001b[0m\n\u001b[0;32m   1016\u001b[0m             \u001b[1;32mif\u001b[0m \u001b[0mengine\u001b[0m \u001b[1;33m==\u001b[0m \u001b[1;34m'python'\u001b[0m\u001b[1;33m:\u001b[0m\u001b[1;33m\u001b[0m\u001b[0m\n",
      "\u001b[1;32m~\\Anaconda3\\lib\\site-packages\\pandas\\io\\parsers.py\u001b[0m in \u001b[0;36m__init__\u001b[1;34m(self, src, **kwds)\u001b[0m\n\u001b[0;32m   1706\u001b[0m         \u001b[0mkwds\u001b[0m\u001b[1;33m[\u001b[0m\u001b[1;34m'usecols'\u001b[0m\u001b[1;33m]\u001b[0m \u001b[1;33m=\u001b[0m \u001b[0mself\u001b[0m\u001b[1;33m.\u001b[0m\u001b[0musecols\u001b[0m\u001b[1;33m\u001b[0m\u001b[0m\n\u001b[0;32m   1707\u001b[0m \u001b[1;33m\u001b[0m\u001b[0m\n\u001b[1;32m-> 1708\u001b[1;33m         \u001b[0mself\u001b[0m\u001b[1;33m.\u001b[0m\u001b[0m_reader\u001b[0m \u001b[1;33m=\u001b[0m \u001b[0mparsers\u001b[0m\u001b[1;33m.\u001b[0m\u001b[0mTextReader\u001b[0m\u001b[1;33m(\u001b[0m\u001b[0msrc\u001b[0m\u001b[1;33m,\u001b[0m \u001b[1;33m**\u001b[0m\u001b[0mkwds\u001b[0m\u001b[1;33m)\u001b[0m\u001b[1;33m\u001b[0m\u001b[0m\n\u001b[0m\u001b[0;32m   1709\u001b[0m \u001b[1;33m\u001b[0m\u001b[0m\n\u001b[0;32m   1710\u001b[0m         \u001b[0mpassed_names\u001b[0m \u001b[1;33m=\u001b[0m \u001b[0mself\u001b[0m\u001b[1;33m.\u001b[0m\u001b[0mnames\u001b[0m \u001b[1;32mis\u001b[0m \u001b[1;32mNone\u001b[0m\u001b[1;33m\u001b[0m\u001b[0m\n",
      "\u001b[1;32mpandas\\_libs\\parsers.pyx\u001b[0m in \u001b[0;36mpandas._libs.parsers.TextReader.__cinit__\u001b[1;34m()\u001b[0m\n",
      "\u001b[1;32mpandas\\_libs\\parsers.pyx\u001b[0m in \u001b[0;36mpandas._libs.parsers.TextReader._setup_parser_source\u001b[1;34m()\u001b[0m\n",
      "\u001b[1;31mFileNotFoundError\u001b[0m: File b'data/housing.csv' does not exist"
     ],
     "output_type": "error"
    }
   ],
   "source": [
    "data = pd.read_csv(\"data/housing.csv\", sep=\";\")"
   ]
  },
  {
   "cell_type": "markdown",
   "metadata": {},
   "source": [
    "Aufgabe 1:\n",
    "Teil 1:\n",
    "- Mehrdimensionale Lineare Regression auf einem Datensatz (https://github.com/ageron/handson-ml/blob/master/datasets/housing/)\n",
    "- Vorverarbeitung der Daten (Skalierung, kategorische Attribute: http://scikit-learn.org/stable/modules/preprocessing.html#encoding-categorical-features)\n",
    "- Aufteilung in Test & Train\n",
    "- Berechnung der Fehler der Vorhersage auf dem Test-Datensatz\n",
    "- Anpassung der Inputdaten (Feature Engineering)\n",
    "- Niedrigster MSE auf einem (für alle der gleiche) Test-Datensatz gewinnt\n",
    "Teil 2\n",
    "So wie Teil 1 nur mit kNeighborsRegression als Vorhersageverfahren"
   ]
  },
  {
   "cell_type": "markdown",
   "metadata": {},
   "source": [
    "# Looking at the data"
   ]
  },
  {
   "cell_type": "code",
   "execution_count": null,
   "metadata": {},
   "outputs": [],
   "source": [
    "print(data.isnull().sum().sum()) #nr of nans\n",
    "#data.isnull().values.any() # only gives true/false\n",
    "print(data.shape)"
   ]
  },
  {
   "cell_type": "code",
   "execution_count": null,
   "metadata": {},
   "outputs": [],
   "source": [
    "data.head()"
   ]
  },
  {
   "cell_type": "code",
   "execution_count": null,
   "metadata": {},
   "outputs": [],
   "source": [
    "data.describe()"
   ]
  },
  {
   "cell_type": "markdown",
   "metadata": {},
   "source": [
    "# Preprocessing"
   ]
  },
  {
   "cell_type": "code",
   "execution_count": null,
   "metadata": {},
   "outputs": [],
   "source": [
    "#X=data[(data['median_house_value']!=500001) | (data['median_income']>=2)]\n",
    "X=data[(data['median_income']<=2)]\n",
    "X"
   ]
  },
  {
   "cell_type": "code",
   "execution_count": null,
   "metadata": {},
   "outputs": [],
   "source": [
    "plt.scatter(data[\"median_income\"],data[\"median_house_value\"])"
   ]
  },
  {
   "cell_type": "code",
   "execution_count": null,
   "metadata": {},
   "outputs": [],
   "source": [
    "plt.scatter(data[\"population\"],data[\"median_house_value\"])"
   ]
  },
  {
   "cell_type": "markdown",
   "metadata": {},
   "source": [
    "### Encoding categorical features"
   ]
  },
  {
   "cell_type": "code",
   "execution_count": null,
   "metadata": {},
   "outputs": [],
   "source": [
    "enc_labels = preprocessing.LabelEncoder()"
   ]
  },
  {
   "cell_type": "code",
   "execution_count": null,
   "metadata": {},
   "outputs": [],
   "source": [
    "enc_labels.fit(data[\"ocean_proximity\"])\n",
    "new_ocean_prox = enc_labels.transform(data[\"ocean_proximity\"])\n",
    "print(type(new_ocean_prox))"
   ]
  },
  {
   "cell_type": "code",
   "execution_count": null,
   "metadata": {},
   "outputs": [],
   "source": [
    "enc_ohe = preprocessing.OneHotEncoder(sparse=False) #easier to read\n",
    "new_ocean_arr = enc_ohe.fit_transform(new_ocean_prox.reshape(-1, 1))\n",
    "new_ocean_df = pd.DataFrame(data = new_ocean_arr, columns = list(enc_labels.classes_))"
   ]
  },
  {
   "cell_type": "code",
   "execution_count": null,
   "metadata": {},
   "outputs": [],
   "source": [
    "data_new = pd.concat([data,new_ocean_df],axis=1)\n",
    "display(data_new)\n",
    "data_new.drop(\"ocean_proximity\",axis = 1,inplace = True)\n",
    "data_new"
   ]
  },
  {
   "cell_type": "markdown",
   "metadata": {},
   "source": [
    "### (Replacing NaNs)"
   ]
  },
  {
   "cell_type": "code",
   "execution_count": null,
   "metadata": {},
   "outputs": [],
   "source": [
    "# replacing the 207 NaNs in column total_bedroom by mean of the column"
   ]
  },
  {
   "cell_type": "code",
   "execution_count": null,
   "metadata": {},
   "outputs": [],
   "source": [
    "\"\"\"\n",
    "data_new[\"total_bedrooms\"].fillna(data_new[\"total_bedrooms\"].mean(),inplace = True)\n",
    "with pd.option_context('display.max_rows', 1000, 'display.max_columns', 300): # shows more of the df\n",
    "    display(data_new[\"total_bedrooms\"])\n",
    "    \"\"\""
   ]
  },
  {
   "cell_type": "markdown",
   "metadata": {},
   "source": [
    "## Scatter matrices"
   ]
  },
  {
   "cell_type": "code",
   "execution_count": null,
   "metadata": {},
   "outputs": [],
   "source": [
    "fig = plt.figure(figsize = (30,30))\n",
    "for col in range(0,8):\n",
    "    plt.subplot(4,2,col+1)\n",
    "    plt.scatter(data_new.iloc[:,col],data_new[\"median_house_value\"])\n",
    "    plt.title(data_new.columns[col],fontsize=40)"
   ]
  },
  {
   "cell_type": "markdown",
   "metadata": {},
   "source": [
    "### Dropping rows with NaNs"
   ]
  },
  {
   "cell_type": "code",
   "execution_count": null,
   "metadata": {},
   "outputs": [],
   "source": [
    "data_new[\"total_bedrooms\"].isnull().sum()"
   ]
  },
  {
   "cell_type": "code",
   "execution_count": null,
   "metadata": {},
   "outputs": [],
   "source": [
    "cols = data_new.columns.tolist()"
   ]
  },
  {
   "cell_type": "code",
   "execution_count": null,
   "metadata": {},
   "outputs": [],
   "source": [
    "data_new.dropna(inplace = True)\n",
    "data_new.reset_index(inplace = True)\n",
    "data_new.head()"
   ]
  },
  {
   "cell_type": "code",
   "execution_count": null,
   "metadata": {},
   "outputs": [],
   "source": [
    "data_new = data_new[['longitude','latitude','housing_median_age','total_rooms', 'total_bedrooms', 'population', 'households','median_income','<1H OCEAN', 'INLAND', 'ISLAND', 'NEAR BAY', 'NEAR OCEAN','median_house_value']]"
   ]
  },
  {
   "cell_type": "code",
   "execution_count": null,
   "metadata": {},
   "outputs": [],
   "source": [
    "with pd.option_context('display.max_rows', 1000, 'display.max_columns', 300): # shows more of the df\n",
    "    display(data_new)\n",
    "data_new.shape"
   ]
  },
  {
   "cell_type": "code",
   "execution_count": null,
   "metadata": {},
   "outputs": [],
   "source": [
    "data_new.plot(kind=\"scatter\",x=\"longitude\",y=\"latitude\",alpha=0.4,\n",
    "                s=data_new[\"population\"]/100,label=\"population\",figsize=(10,7),\n",
    "                c=\"median_house_value\",cmap=plt.get_cmap(\"jet\"),colorbar=True,)\n",
    "plt.legend()"
   ]
  },
  {
   "cell_type": "code",
   "execution_count": null,
   "metadata": {},
   "outputs": [],
   "source": [
    "import seaborn as sns\n",
    "sns.set(style=\"ticks\")\n",
    "plot_vars = data_new.iloc[:,[0,1,2,3,4,5,6,7,13]]\n",
    "sns.pairplot(plot_vars)\n"
   ]
  },
  {
   "cell_type": "code",
   "execution_count": null,
   "metadata": {},
   "outputs": [],
   "source": [
    "corr_matrix = data_new.iloc[:,[0,1,2,3,4,5,6,7,13]].corr()\n",
    "plt.subplots(figsize=(20,10))\n",
    "sns.heatmap(corr_matrix, annot=True, linewidths=1, cmap='viridis');"
   ]
  },
  {
   "cell_type": "code",
   "execution_count": null,
   "metadata": {},
   "outputs": [],
   "source": [
    "rooms_combined = data_new.copy()\n",
    "rooms_combined[\"bedr_per_rooms\"] = rooms_combined[\"total_bedrooms\"]/rooms_combined[\"total_rooms\"]\n",
    "rooms_combined.drop([\"total_rooms\",\"total_bedrooms\"],axis=1,inplace=True)\n",
    "rooms_combined = rooms_combined[['longitude','latitude','housing_median_age', 'bedr_per_rooms', 'population', 'households','median_income','<1H OCEAN', 'INLAND', 'ISLAND', 'NEAR BAY', 'NEAR OCEAN','median_house_value']]\n",
    "rooms_combined.head()"
   ]
  },
  {
   "cell_type": "code",
   "execution_count": null,
   "metadata": {},
   "outputs": [],
   "source": [
    "\"\"\"corr_matrix = rooms_combined.iloc[:,[0,1,2,3,4,5,6,12]].corr()\n",
    "plt.subplots(figsize=(20,10))\n",
    "sns.heatmap(corr_matrix, annot=True, linewidths=1, cmap='viridis');\n",
    "\"\"\""
   ]
  },
  {
   "cell_type": "code",
   "execution_count": null,
   "metadata": {},
   "outputs": [],
   "source": [
    "rooms_pophouse_comb = rooms_combined.copy()\n",
    "rooms_pophouse_comb[\"househ_per_pop\"] = rooms_pophouse_comb[\"households\"]/rooms_pophouse_comb[\"population\"]\n",
    "rooms_pophouse_comb = rooms_pophouse_comb[['longitude','latitude','housing_median_age', 'bedr_per_rooms', 'househ_per_pop', 'median_income','<1H OCEAN', 'INLAND', 'ISLAND', 'NEAR BAY', 'NEAR OCEAN','median_house_value']]\n",
    "rooms_pophouse_comb.head()"
   ]
  },
  {
   "cell_type": "markdown",
   "metadata": {},
   "source": [
    "## Converting housing median age to categorical variables"
   ]
  },
  {
   "cell_type": "code",
   "execution_count": null,
   "metadata": {},
   "outputs": [],
   "source": [
    "agecats_data = data_new.copy()\n",
    "agecats_data[\"age_cat\"] = np.zeros(agecats_data.shape[0])\n",
    "agecats_data"
   ]
  },
  {
   "cell_type": "code",
   "execution_count": null,
   "metadata": {},
   "outputs": [],
   "source": [
    "for row in range(0,agecats_data.shape[0]):\n",
    "    if agecats_data.loc[row,\"housing_median_age\"] < 18:\n",
    "        agecats_data.loc[row,\"age_cat\"] = 1\n",
    "    elif agecats_data.loc[row,\"housing_median_age\"] < 29:\n",
    "        agecats_data.loc[row,\"age_cat\"] = 2\n",
    "    elif agecats_data.loc[row,\"housing_median_age\"] < 37:\n",
    "        agecats_data.loc[row,\"age_cat\"] = 3\n",
    "    elif agecats_data.loc[row,\"housing_median_age\"] < 52:\n",
    "        agecats_data.loc[row,\"age_cat\"] = 4\n",
    "    elif agecats_data.loc[row,\"housing_median_age\"] == 52:\n",
    "        agecats_data.loc[row,\"age_cat\"] = 5\n",
    "\n",
    "agecats_data.drop(\"housing_median_age\",axis = 1,inplace = True)\n",
    "agecats_data.head()"
   ]
  },
  {
   "cell_type": "code",
   "execution_count": null,
   "metadata": {},
   "outputs": [],
   "source": [
    "agecats_data = agecats_data[['longitude','latitude','age_cat','total_rooms', 'total_bedrooms', 'population', 'households','median_income','<1H OCEAN', 'INLAND', 'ISLAND', 'NEAR BAY', 'NEAR OCEAN','median_house_value']]"
   ]
  },
  {
   "cell_type": "code",
   "execution_count": null,
   "metadata": {},
   "outputs": [],
   "source": [
    "agecats_rooms_pophouse_comb = rooms_pophouse_comb.copy()\n",
    "agecats_rooms_pophouse_comb[\"age_cat\"] = agecats_data[\"age_cat\"]"
   ]
  },
  {
   "cell_type": "code",
   "execution_count": null,
   "metadata": {},
   "outputs": [],
   "source": [
    "agecats_rooms_pophouse_comb.head()"
   ]
  },
  {
   "cell_type": "code",
   "execution_count": null,
   "metadata": {},
   "outputs": [],
   "source": [
    "agecats_rooms_pophouse_comb.drop(\"housing_median_age\",axis=1,inplace = True)"
   ]
  },
  {
   "cell_type": "code",
   "execution_count": null,
   "metadata": {},
   "outputs": [],
   "source": [
    "agecats_rooms_pophouse_comb = agecats_rooms_pophouse_comb[['longitude','latitude','age_cat', 'bedr_per_rooms', 'househ_per_pop', 'median_income','<1H OCEAN', 'INLAND', 'ISLAND', 'NEAR BAY', 'NEAR OCEAN','median_house_value']]\n",
    "\n",
    "agecats_rooms_pophouse_comb.head()"
   ]
  },
  {
   "cell_type": "code",
   "execution_count": null,
   "metadata": {},
   "outputs": [],
   "source": [
    "binaryagecats_rooms_pophouse_comb = agecats_rooms_pophouse_comb.copy()"
   ]
  },
  {
   "cell_type": "code",
   "execution_count": null,
   "metadata": {},
   "outputs": [],
   "source": [
    "enc_age_ohe = preprocessing.OneHotEncoder(sparse=False) #easier to read\n",
    "new_age_cats_arr = enc_age_ohe.fit_transform(binaryagecats_rooms_pophouse_comb[\"age_cat\"].values.reshape(-1, 1))\n",
    "new_age_cats_df = pd.DataFrame(data = new_age_cats_arr, columns = [\"age1\",\"age2\",\"age3\",\"age4\",\"age5\"])\n",
    "binaryagecats_rooms_pophouse_comb = pd.concat([binaryagecats_rooms_pophouse_comb,new_age_cats_df],axis=1)"
   ]
  },
  {
   "cell_type": "code",
   "execution_count": null,
   "metadata": {},
   "outputs": [],
   "source": [
    "binaryagecats_rooms_pophouse_comb.drop(\"age_cat\",axis=1,inplace=True)"
   ]
  },
  {
   "cell_type": "code",
   "execution_count": null,
   "metadata": {},
   "outputs": [],
   "source": [
    "binaryagecats_rooms_pophouse_comb.head()"
   ]
  },
  {
   "cell_type": "code",
   "execution_count": null,
   "metadata": {},
   "outputs": [],
   "source": [
    "coords_df = binaryagecats_rooms_pophouse_comb.loc[:,[\"longitude\",\"latitude\",\"median_house_value\"]]\n",
    "coords_df.head()"
   ]
  },
  {
   "cell_type": "code",
   "execution_count": null,
   "metadata": {},
   "outputs": [],
   "source": [
    "mima = preprocessing.MinMaxScaler()\n",
    "coords_df = mima.fit_transform(coords_df)"
   ]
  },
  {
   "cell_type": "code",
   "execution_count": null,
   "metadata": {},
   "outputs": [],
   "source": [
    "coords_df = pd.DataFrame(data=coords_df,columns = [\"longitude\",\"latitude\",\"median_house_value\"])\n",
    "coords_df"
   ]
  },
  {
   "cell_type": "code",
   "execution_count": null,
   "metadata": {},
   "outputs": [],
   "source": [
    "km = KMeans(n_clusters = 2)\n",
    "    \n",
    "clusters=km.fit_predict(coords_df)\n",
    "centroids = km.cluster_centers_"
   ]
  },
  {
   "cell_type": "code",
   "execution_count": null,
   "metadata": {},
   "outputs": [],
   "source": [
    "clusters"
   ]
  },
  {
   "cell_type": "code",
   "execution_count": null,
   "metadata": {},
   "outputs": [],
   "source": [
    "centroids_coords = centroids[:,0:2]\n",
    "centroids_coords"
   ]
  },
  {
   "cell_type": "code",
   "execution_count": null,
   "metadata": {},
   "outputs": [],
   "source": [
    "def k_mean_distance(data, cx, cy, i_centroid, cluster_labels):\n",
    "        distances = [np.sqrt((x-cx)**2+(y-cy)**2) for (x, y) in data[cluster_labels == i_centroid]]\n",
    "        return distances\n",
    "test = coords_df.loc[:,[\"longitude\",\"latitude\"]]\n",
    "k_mean_distance(np.array(test),0.26,0.57,0,clusters)\n",
    "#test[clusters == 1]"
   ]
  },
  {
   "cell_type": "code",
   "execution_count": null,
   "metadata": {},
   "outputs": [],
   "source": [
    "distances = []\n",
    "only_coords = coords_df.loc[:,[\"longitude\",\"latitude\"]]\n",
    "for i, (cx, cy) in enumerate(centroids_coords):\n",
    "    mean_distance = k_mean_distance(np.array(only_coords), cx, cy, i, clusters)\n",
    "    distances.append(mean_distance)\n",
    "\n",
    "dist = distances"
   ]
  },
  {
   "cell_type": "code",
   "execution_count": null,
   "metadata": {},
   "outputs": [],
   "source": [
    "only_coords[\"label\"] = clusters\n",
    "only_coords.head()"
   ]
  },
  {
   "cell_type": "code",
   "execution_count": null,
   "metadata": {},
   "outputs": [],
   "source": [
    "only_coords.loc[only_coords[\"label\"]== 0,\"dist\"] = dist[0]"
   ]
  },
  {
   "cell_type": "code",
   "execution_count": null,
   "metadata": {},
   "outputs": [],
   "source": [
    "only_coords.loc[only_coords[\"label\"]== 1,\"dist\"] = dist[1]"
   ]
  },
  {
   "cell_type": "code",
   "execution_count": null,
   "metadata": {},
   "outputs": [],
   "source": [
    "only_coords.head()"
   ]
  },
  {
   "cell_type": "code",
   "execution_count": null,
   "metadata": {},
   "outputs": [],
   "source": [
    "only_coords.plot(kind=\"scatter\",x=\"longitude\",y=\"latitude\",alpha=0.4,\n",
    "                figsize=(10,7),#label=clusters,\n",
    "                c=\"dist\",cmap=plt.get_cmap(\"jet\"),colorbar=True,)\n",
    "centers = np.array(centroids)\n",
    "plt.scatter(centers[:,0], centers[:,1], marker=\"x\", color='black')\n",
    "plt.legend()"
   ]
  },
  {
   "cell_type": "code",
   "execution_count": null,
   "metadata": {},
   "outputs": [],
   "source": [
    "optimized_df = binaryagecats_rooms_pophouse_comb.copy()"
   ]
  },
  {
   "cell_type": "code",
   "execution_count": null,
   "metadata": {},
   "outputs": [],
   "source": [
    "optimized_df[\"dist\"] = only_coords[\"dist\"]"
   ]
  },
  {
   "cell_type": "code",
   "execution_count": null,
   "metadata": {},
   "outputs": [],
   "source": [
    "optimized_df.drop([\"longitude\",\"latitude\"],axis=1,inplace=True)"
   ]
  },
  {
   "cell_type": "code",
   "execution_count": null,
   "metadata": {},
   "outputs": [],
   "source": [
    "optimized_df = optimized_df[['dist','bedr_per_rooms', 'househ_per_pop', 'median_income','<1H OCEAN', 'INLAND', 'ISLAND', 'NEAR BAY', 'NEAR OCEAN','age1','age2','age3','age4','age5','median_house_value']]\n",
    "optimized_df.head()"
   ]
  },
  {
   "cell_type": "code",
   "execution_count": null,
   "metadata": {},
   "outputs": [],
   "source": [
    "fig = plt.figure(figsize = (30,30))\n",
    "for col in range(0,4):\n",
    "    plt.subplot(2,2,col+1)\n",
    "    plt.scatter(optimized_df.iloc[:,col],optimized_df[\"median_house_value\"])\n",
    "    plt.title(optimized_df.columns[col],fontsize=40)"
   ]
  },
  {
   "cell_type": "code",
   "execution_count": null,
   "metadata": {},
   "outputs": [],
   "source": []
  },
  {
   "cell_type": "code",
   "execution_count": null,
   "metadata": {},
   "outputs": [],
   "source": []
  },
  {
   "cell_type": "code",
   "execution_count": null,
   "metadata": {},
   "outputs": [],
   "source": []
  },
  {
   "cell_type": "code",
   "execution_count": null,
   "metadata": {},
   "outputs": [],
   "source": []
  },
  {
   "cell_type": "code",
   "execution_count": null,
   "metadata": {},
   "outputs": [],
   "source": []
  },
  {
   "cell_type": "code",
   "execution_count": null,
   "metadata": {},
   "outputs": [],
   "source": []
  },
  {
   "cell_type": "code",
   "execution_count": null,
   "metadata": {},
   "outputs": [],
   "source": []
  },
  {
   "cell_type": "code",
   "execution_count": null,
   "metadata": {},
   "outputs": [],
   "source": [
    "class ItsMagic: \n",
    "    def __init__(self):\n",
    "        self.results = pd.DataFrame() # contains the predicted ys\n",
    "        self.input_data = {} # dict of dicts, contains the input data frames\n",
    "        self.algo_names = [] # list of all algo names that were added\n",
    "        self.algos = {} # dict of dicts, contains the algo names and algos\n",
    "        self.analysis_summaries = {} # contains all analyses that have already been run and details about them \n",
    "                                        # (i.e. which algo and input data was used)\n",
    "\n",
    "    def add_input_prep(self, input_data_name, input_data, colidx_with_cont_data = list(range(0,8))):\n",
    "        \"\"\"accepts an input data frame, splits in training and test, scales the continuous features,\n",
    "        and stores the input df in input_data. colidx.. should be a list of column indices of continous features\n",
    "        input_data should be a manipulated version of data_new (i.e. ocean proximity \n",
    "        already converted, NaNs in total bedrooms already dropped,index reset.)\"\"\"\n",
    "        if input_data_name not in self.input_data:\n",
    "            self.input_data[input_data_name] = {'raw_data': input_data}\n",
    "\n",
    "            #split in train and test\n",
    "            splitdata = {}\n",
    "            self.input_data[input_data_name][\"prep_data\"] = splitdata\n",
    "            splitdata[\"train_X\"], splitdata[\"test_X\"], splitdata[\"train_y\"],splitdata[\"test_y\"] = train_test_split(self.input_data[input_data_name][\"raw_data\"].loc[:, self.input_data[input_data_name][\"raw_data\"].columns != 'median_house_value'],\\\n",
    "                                                               self.input_data[input_data_name][\"raw_data\"][\"median_house_value\"], test_size=0.2, random_state=42)\n",
    "            nr_features = splitdata[\"train_X\"].shape[1]\n",
    "\n",
    "            if colidx_with_cont_data:\n",
    "                #standard scaling of continuous variables\n",
    "                scaler = preprocessing.StandardScaler()\n",
    "                train_df_cont = self.input_data[input_data_name][\"prep_data\"][\"train_X\"].iloc[:,colidx_with_cont_data]\n",
    "                scaler.fit(train_df_cont) \n",
    "                self.input_data[input_data_name][\"prep_data\"][\"train_X\"].iloc[:,colidx_with_cont_data] = scaler.transform(train_df_cont)\n",
    "                self.input_data[input_data_name][\"prep_data\"][\"test_X\"].iloc[:,colidx_with_cont_data] = scaler.transform(self.input_data[input_data_name][\"prep_data\"][\"test_X\"].iloc[:,colidx_with_cont_data])\n",
    "            \n",
    "            print(f\"Input data: {input_data_name}.\")\n",
    "            print(f\"Scaled {len(colidx_with_cont_data)} features.\")\n",
    "            print(f\"The scaled features are: {splitdata['train_X'].iloc[:,colidx_with_cont_data].columns.values}\")\n",
    "            colindices = list(range(0,splitdata['train_X'].shape[1]))\n",
    "            condition = [c not in colidx_with_cont_data for c in colindices]\n",
    "            not_scaled = self.input_data[input_data_name]['prep_data']['train_X'].iloc[:,condition].columns.values \n",
    "            print(f\"Did NOT scale these ones: {not_scaled}\")\n",
    "  \n",
    "            return self.input_data\n",
    "        else:\n",
    "            print(\"Input data name already exists!\")\n",
    "    \n",
    "    def run_analysis(self,analysis_name,input_data_name,algo_name,):\n",
    "        \"\"\"runs an analysis with a given input_data and algo_name. Calculates error rates and stores\n",
    "        them in self.analysis_summaries. For LinReg, also calculates beta coefficients.\"\"\"\n",
    "        \n",
    "        if analysis_name not in self.analysis_summaries:\n",
    "            self.analysis_summaries[analysis_name] = {\"input_data_name\":input_data_name,\"algo_name\":algo_name,\"fit\":-1}\n",
    "            \n",
    "            # get the data from input_data\n",
    "            train_X, test_X, train_y, test_y = self.input_data[input_data_name]['prep_data'][\"train_X\"],\\\n",
    "                self.input_data[input_data_name]['prep_data'][\"test_X\"],\\\n",
    "                self.input_data[input_data_name]['prep_data'][\"train_y\"],\\\n",
    "                self.input_data[input_data_name]['prep_data'][\"test_y\"]\n",
    "            \n",
    "            if self.analysis_summaries[analysis_name]['fit'] == -1:\n",
    "                print(\"self analysis summary is -1\")\n",
    "                self.analysis_summaries[analysis_name]['fit'] = self.algos[algo_name]['algo'].fit(train_X, train_y) \n",
    "                pred = self.algos[algo_name]['algo'].predict(test_X)\n",
    "                self.results[analysis_name] = pred \n",
    "                \n",
    "                # error and r2 calculation\n",
    "                mse= mean_squared_error(pred,test_y)\n",
    "                rmse = np.sqrt(mse)\n",
    "                self.analysis_summaries[analysis_name][\"RMSE\"] = rmse\n",
    "                R2 = self.analysis_summaries[analysis_name]['fit'].score(test_X, test_y)\n",
    "                self.analysis_summaries[analysis_name][\"R2\"] = R2\n",
    "                rss = (sum((pred - test_y)**2))\n",
    "                rse = np.sqrt(rss/(test_X.shape[0]-test_X.shape[1]))\n",
    "                self.analysis_summaries[analysis_name][\"RSE\"] = rse\n",
    "                print(f\"RSE: {rse}\")\n",
    "                print(f\"RMSE: {rmse}\")\n",
    "                print(f\"R2: {R2}\")\n",
    "                if isinstance(self.algos[algo_name][\"algo\"],linear_model.base.LinearRegression):\n",
    "                    betas = self.analysis_summaries[analysis_name]['fit'].coef_\n",
    "                    betas_df = pd.DataFrame(data = betas.reshape(1,train_X.shape[1]),columns = train_X.columns)\n",
    "                    self.analysis_summaries[analysis_name][\"betas\"] = betas_df\n",
    "        else: print(\"Analysis name already exists!\")\n",
    "    \n",
    "    def run_all_combis(self):\n",
    "        for i in self.input_data.keys():\n",
    "            for a in self.algos:\n",
    "                print(a)\n",
    "                ananame = str(a) + \"_\" + str(i)\n",
    "                print(f\"\\nRunning {ananame} analysis...\")\n",
    "                self.run_analysis(ananame,i,a)\n",
    "                print(\"Finished!\")\n",
    "                      \n",
    "    def calculate_error_rates(self):\n",
    "        \"\"\"returns a df with R2, RMSE and RSE for each analysis (i.e. each combination of \n",
    "        input_data and algo that was run with run_analysis)\"\"\"\n",
    "        rates = pd.DataFrame(columns = [\"Input DF\",\"Algo Name\",\"R2\",\"RMSE\",\"RSE\"],index = self.analysis_summaries.keys())\n",
    "        for ana in self.analysis_summaries:\n",
    "            rates.loc[ana,\"Input DF\"] = self.analysis_summaries[ana][\"input_data_name\"]\n",
    "            rates.loc[ana,\"Algo Name\"] = self.analysis_summaries[ana][\"algo_name\"]\n",
    "            rates.loc[ana,\"R2\"] = self.analysis_summaries[ana][\"R2\"]\n",
    "            rates.loc[ana,\"RMSE\"] = self.analysis_summaries[ana][\"RMSE\"]\n",
    "            rates.loc[ana,\"RSE\"] = self.analysis_summaries[ana][\"RSE\"]\n",
    "        #display(rates)\n",
    "        return rates\n",
    "    \n",
    "    def pretty_barplots(self):\n",
    "        \"prints a barplot sumarizing the error rates and R2 for the analyses that were run before\"\n",
    "        pass\n",
    "         \n",
    "    def add_algo(self, algo, algo_name):\n",
    "        \"\"\"adds a new algo including its configurations (e.g. n_neighbors). Needs to be\n",
    "        given a unique name\"\"\"\n",
    "        if algo_name not in self.algo_names:\n",
    "            self.algo_names.append(algo_name)\n",
    "            self.algos[algo_name] = {'algo_name': algo_name, 'algo': algo}\n",
    "        else: print(\"This algo config already exists!!\")\n",
    "            \n",
    "    def delete_input_data(self,input_data_name):\n",
    "        self.input_data.pop(input_data_name,None) # None means nothing happens if key not found\n",
    "        print(f\"{input_data_name} was deleted\")\n",
    "        \n",
    "    def get_results(self):\n",
    "        return self.results\n",
    "        "
   ]
  },
  {
   "cell_type": "code",
   "execution_count": null,
   "metadata": {},
   "outputs": [],
   "source": [
    "#input_data.loc[:, input_data.columns != 'median_house_value']"
   ]
  },
  {
   "cell_type": "code",
   "execution_count": null,
   "metadata": {},
   "outputs": [],
   "source": [
    "data_new.head()"
   ]
  },
  {
   "cell_type": "code",
   "execution_count": null,
   "metadata": {},
   "outputs": [],
   "source": [
    "analysis_new = ItsMagic()\n",
    "analysis_new.add_input_prep(\"agecats_data\",agecats_data,list(range(0,8)))\n",
    "analysis_new.add_input_prep(\"optimized\",optimized_df,list(range(0,4)))\n",
    "analysis_new.add_input_prep(\"agecats_rooms_pophouse_comb\",agecats_rooms_pophouse_comb,list(range(0,6)))\n",
    "analysis_new.add_algo(linear_model.LinearRegression(),'standard_linreg')\n",
    "analysis_new.add_algo(KNeighborsRegressor(n_neighbors=10), 'knr_10')\n",
    "analysis_new.add_input_prep(\"binaryagecats_rooms_pophouse_comb\",binaryagecats_rooms_pophouse_comb,[0,1,2,3,4])"
   ]
  },
  {
   "cell_type": "code",
   "execution_count": null,
   "metadata": {},
   "outputs": [],
   "source": [
    "analysis_new.add_input_prep(\"rooms_pophouse_comb\",rooms_pophouse_comb,[0,1,2,3,4,5])\n",
    "analysis_new.add_input_prep(\"orig_data\",data_new,list(range(0,8)))\n",
    "analysis_new.add_input_prep(\"only_coords\",data_new.iloc[:,[0,1,13]],[0,1])"
   ]
  },
  {
   "cell_type": "code",
   "execution_count": null,
   "metadata": {},
   "outputs": [],
   "source": [
    "analysis_new.run_all_combis()"
   ]
  },
  {
   "cell_type": "code",
   "execution_count": null,
   "metadata": {},
   "outputs": [],
   "source": [
    "analysis_new.calculate_error_rates().sort_values([\"R2\",\"RMSE\"],ascending=[False,True])"
   ]
  },
  {
   "cell_type": "code",
   "execution_count": null,
   "metadata": {},
   "outputs": [],
   "source": [
    "analysis = ItsMagic()\n",
    "analysis.add_input_prep(\"orig_data\",data_new,list(range(0,8)))\n",
    "analysis.add_input_prep(\"no_coords\",data_new.iloc[:,list(range(2,14))],list(range(0,6)))\n",
    "analysis.add_input_prep(\"orig_data\",data_new,list(range(0,8))) # is not added again (already exists)\n",
    "analysis.add_input_prep(\"no_oceanprox\",data_new.iloc[:,[0,1,2,3,4,5,6,7,13]],list(range(0,8)))\n",
    "analysis.add_input_prep(\"only_income\",data_new.iloc[:,[7,13]],[0])\n",
    "analysis.add_input_prep(\"only_coords\",data_new.iloc[:,[0,1,13]],[0,1])\n",
    "analysis.add_input_prep(\"only_long\",data_new.iloc[:,[0,13]],[0])\n",
    "analysis.add_input_prep(\"rooms_combined\",rooms_combined,list(range(0,7)))\n",
    "analysis.add_input_prep(\"coords_income\",data_new.iloc[:,[0,1,7,13]],[0,1,2])\n",
    "analysis.add_input_prep(\"rooms_pophouse_comb\",rooms_pophouse_comb,[0,1,2,3,4,5])\n",
    "\n",
    "analysis.input_data"
   ]
  },
  {
   "cell_type": "code",
   "execution_count": null,
   "metadata": {},
   "outputs": [],
   "source": [
    "analysis.add_algo(KNeighborsRegressor(n_neighbors=1), 'knr_1') \n",
    "analysis.add_algo(KNeighborsRegressor(n_neighbors=2), 'knr_2')\n",
    "analysis.add_algo(KNeighborsRegressor(n_neighbors=3), 'knr_3')\n",
    "analysis.add_algo(KNeighborsRegressor(n_neighbors=4), 'knr_4')\n",
    "analysis.add_algo(KNeighborsRegressor(n_neighbors=5), 'knr_5')\n",
    "analysis.add_algo(KNeighborsRegressor(n_neighbors=6), 'knr_6')\n",
    "analysis.add_algo(KNeighborsRegressor(n_neighbors=7), 'knr_7')\n",
    "analysis.add_algo(KNeighborsRegressor(n_neighbors=10), 'knr_10')\n",
    "analysis.add_algo(KNeighborsRegressor(n_neighbors=125), 'knr_125')\n",
    "analysis.add_algo(linear_model.LinearRegression(),'standard_linreg')\n",
    "analysis.algos"
   ]
  },
  {
   "cell_type": "code",
   "execution_count": null,
   "metadata": {},
   "outputs": [],
   "source": [
    "analysis.delete_input_data('rooms_pophouse_comb')"
   ]
  },
  {
   "cell_type": "code",
   "execution_count": null,
   "metadata": {},
   "outputs": [],
   "source": [
    "analysis.add_input_prep(\"rooms_pophouse_comb\",rooms_pophouse_comb,[0,1,2,3,4,5])"
   ]
  },
  {
   "cell_type": "code",
   "execution_count": null,
   "metadata": {},
   "outputs": [],
   "source": [
    "analysis.run_all_combis()"
   ]
  },
  {
   "cell_type": "code",
   "execution_count": null,
   "metadata": {},
   "outputs": [],
   "source": [
    "res_allcombis = analysis.calculate_error_rates()"
   ]
  },
  {
   "cell_type": "code",
   "execution_count": null,
   "metadata": {},
   "outputs": [],
   "source": [
    "with pd.option_context('display.max_rows', 1000, 'display.max_columns', 300):\n",
    "    display(res_allcombis.sort_values([\"R2\",\"RMSE\"],ascending=[False,True]))"
   ]
  },
  {
   "cell_type": "code",
   "execution_count": null,
   "metadata": {},
   "outputs": [],
   "source": [
    "#analysis.run_analysis('knr1_orig','orig_data','knr_1')"
   ]
  },
  {
   "cell_type": "code",
   "execution_count": null,
   "metadata": {},
   "outputs": [],
   "source": [
    "best_r2 = res_allcombis.sort_values(\"R2\",ascending=False).iloc[0:15,:]\n",
    "#display(best_r2)\n",
    "lowest_rmse = res_allcombis.sort_values(\"RMSE\").iloc[0:15,:]\n",
    "#display(lowest_rmse)"
   ]
  },
  {
   "cell_type": "markdown",
   "metadata": {},
   "source": [
    "### Kalibrierung des Modells"
   ]
  },
  {
   "cell_type": "code",
   "execution_count": null,
   "metadata": {},
   "outputs": [],
   "source": [
    "analysis.results[\"standard_linreg_rooms_pophouse_comb\"].mean()"
   ]
  },
  {
   "cell_type": "code",
   "execution_count": null,
   "metadata": {},
   "outputs": [],
   "source": [
    "analysis.input_data[\"rooms_pophouse_comb\"][\"prep_data\"][\"test_y\"].mean()"
   ]
  },
  {
   "cell_type": "markdown",
   "metadata": {},
   "source": [
    "# Pickling of the created analysis object"
   ]
  },
  {
   "cell_type": "code",
   "execution_count": null,
   "metadata": {},
   "outputs": [],
   "source": [
    "# open the file for writing\n",
    "fileObject = open(\"analysis_pickled\",'wb') \n",
    "# this writes the object analysis to the\n",
    "# file named 'analysis_pickled'\n",
    "pickle.dump(analysis,fileObject)\n",
    "# here we close the fileObject\n",
    "fileObject.close()"
   ]
  },
  {
   "cell_type": "code",
   "execution_count": null,
   "metadata": {},
   "outputs": [],
   "source": [
    "# we open the file for reading\n",
    "fileObject = open(\"analysis_pickled\",'rb')  \n",
    "# load the object from the file into var b\n",
    "loaded_analysis = pickle.load(fileObject)\n",
    "# here we close the fileObject\n",
    "fileObject.close()"
   ]
  },
  {
   "cell_type": "code",
   "execution_count": null,
   "metadata": {},
   "outputs": [],
   "source": [
    "loaded_analysis.algos"
   ]
  },
  {
   "cell_type": "markdown",
   "metadata": {},
   "source": [
    "# ToDo"
   ]
  },
  {
   "cell_type": "code",
   "execution_count": null,
   "metadata": {},
   "outputs": [],
   "source": [
    "# incorporate feature selector for LinReg\n",
    "\n",
    "#http://scikit-learn.org/stable/modules/generated/sklearn.feature_selection.RFE.html"
   ]
  },
  {
   "cell_type": "code",
   "execution_count": null,
   "metadata": {},
   "outputs": [],
   "source": []
  }
 ],
 "metadata": {
  "kernelspec": {
   "display_name": "Python 3",
   "language": "python",
   "name": "python3"
  },
  "language_info": {
   "codemirror_mode": {
    "name": "ipython",
    "version": 3
   },
   "file_extension": ".py",
   "mimetype": "text/x-python",
   "name": "python",
   "nbconvert_exporter": "python",
   "pygments_lexer": "ipython3",
   "version": "3.6.5"
  }
 },
 "nbformat": 4,
 "nbformat_minor": 2
}
